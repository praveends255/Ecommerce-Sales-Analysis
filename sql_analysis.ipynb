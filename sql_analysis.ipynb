{
 "cells": [
  {
   "cell_type": "code",
   "execution_count": 1,
   "id": "9fcae31e",
   "metadata": {},
   "outputs": [],
   "source": [
    "import sqlite3\n",
    "import pandas as pd"
   ]
  },
  {
   "cell_type": "code",
   "execution_count": 2,
   "id": "939512c3",
   "metadata": {},
   "outputs": [],
   "source": [
    "# Load CSV\n",
    "\n",
    "df = pd.read_csv(\"StoreData.csv\")"
   ]
  },
  {
   "cell_type": "code",
   "execution_count": 3,
   "id": "e55994ef",
   "metadata": {},
   "outputs": [],
   "source": [
    "# Create Sql DB in memory\n",
    "\n",
    "conn = sqlite3.connect(\":memory:\")"
   ]
  },
  {
   "cell_type": "code",
   "execution_count": 10,
   "id": "0407373c",
   "metadata": {},
   "outputs": [
    {
     "data": {
      "text/plain": [
       "9994"
      ]
     },
     "execution_count": 10,
     "metadata": {},
     "output_type": "execute_result"
    }
   ],
   "source": [
    "# Save dataframe as SQL table\n",
    "\n",
    "df.to_sql(\"Superstore\", conn, index=False, if_exists= \"replace\")"
   ]
  },
  {
   "cell_type": "code",
   "execution_count": 11,
   "id": "fc4f383a",
   "metadata": {},
   "outputs": [
    {
     "name": "stdout",
     "output_type": "stream",
     "text": [
      "                                        Product Name  TotalSales\n",
      "0              Canon imageCLASS 2200 Advanced Copier   61599.824\n",
      "1  Fellowes PB500 Electric Punch Plastic Comb Bin...   27453.384\n",
      "2  Cisco TelePresence System EX90 Videoconferenci...   22638.480\n",
      "3       HON 5400 Series Task Chairs for Big and Tall   21870.576\n",
      "4         GBC DocuBind TL300 Electric Binding System   19823.479\n"
     ]
    }
   ],
   "source": [
    "# Top 5 Products by Sales\n",
    "\n",
    "query1 = \"\"\"\n",
    "SELECT [Product Name], SUM(Sales) AS TotalSales\n",
    "FROM Superstore\n",
    "GROUP BY [Product Name]\n",
    "ORDER BY TotalSales DESC\n",
    "LIMIT 5\n",
    "\"\"\"\n",
    "print(pd.read_sql(query1, conn))"
   ]
  },
  {
   "cell_type": "code",
   "execution_count": 12,
   "id": "ac90b869",
   "metadata": {},
   "outputs": [
    {
     "name": "stdout",
     "output_type": "stream",
     "text": [
      "    Region   TotalSales\n",
      "0     West  725457.8245\n",
      "1     East  678781.2400\n",
      "2  Central  501239.8908\n",
      "3    South  391721.9050\n"
     ]
    }
   ],
   "source": [
    "# Sales by Region\n",
    "\n",
    "query2 = \"\"\"\n",
    "SELECT Region, SUM(Sales) AS TotalSales\n",
    "FROM Superstore\n",
    "GROUP BY Region\n",
    "ORDER BY TotalSales DESC\n",
    "\"\"\"\n",
    "print(pd.read_sql(query2, conn))"
   ]
  }
 ],
 "metadata": {
  "kernelspec": {
   "display_name": "base",
   "language": "python",
   "name": "python3"
  },
  "language_info": {
   "codemirror_mode": {
    "name": "ipython",
    "version": 3
   },
   "file_extension": ".py",
   "mimetype": "text/x-python",
   "name": "python",
   "nbconvert_exporter": "python",
   "pygments_lexer": "ipython3",
   "version": "3.12.7"
  }
 },
 "nbformat": 4,
 "nbformat_minor": 5
}
